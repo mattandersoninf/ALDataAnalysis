{
 "cells": [
  {
   "cell_type": "code",
   "execution_count": 1,
   "metadata": {},
   "outputs": [
    {
     "name": "stderr",
     "output_type": "stream",
     "text": [
      "C:\\Users\\mattanderson\\AppData\\Local\\Continuum\\Anaconda3\\lib\\site-packages\\scipy\\io\\matlab\\mio.py:136: MatReadWarning: Duplicate variable name \"None\" in stream - replacing previous with new\n",
      "Consider mio5.varmats_from_mat to split file into single variable files\n",
      "  matfile_dict = MR.get_variables(variable_names)\n"
     ]
    }
   ],
   "source": [
    "# plotly and other data visualization tools rely on numpy arrays so import the numpy class\n",
    "import numpy as np\n",
    "import matplotlib.pyplot as plt\n",
    "# grabs the information from other files like mat files\n",
    "import scipy.io as sio\n",
    "# create string value to mat file\n",
    "matPath = 'data/2017_Pervious11_F5.mat'\n",
    "# load the information in the file in a format that python can interpret\n",
    "matfile = sio.loadmat(matPath)\n",
    "\n",
    "# in order: for slab1 get date_time, rn, qh,qe,qg and sup\n",
    "# s1_dates = matfile['S1']['D']\n",
    "# manually make strings for the time intervals\n",
    "days = ['20','21','22']\n",
    "years = ['2017']\n",
    "months = ['Jul']\n",
    "# intialize all of the arrays that are going to be used to store all of the values\n",
    "s1_dates, s1_rn, s1_sup, s1_sdn, s1_lup, s1_ldn, s3_rn, s4_rn, s6_rn, s8_rn, s1_rain  = [],[],[],[],[],[],[],[],[],[],[]\n",
    "s1_amb, s1_st1, s1_st2, s1_st3, s1_st4, s1_usp, s1_soilt = [],[],[],[],[],[],[]\n",
    "s1_e1, s1_e3, s1_e4, s1_vwc3, s1_vwc6, s1_ws, s1_bp, s1_rh = [],[],[],[],[],[],[],[]\n",
    "s2_amb, s2_st1, s2_st2, s2_st3, s2_st4, s2_usp = [],[],[],[],[],[]\n",
    "s3_amb, s3_st1, s3_st2, s3_st3, s3_st4, s3_usp = [],[],[],[],[],[]\n",
    "s4_amb, s4_st1, s4_st2, s4_st3, s4_st4, s4_usp = [],[],[],[],[],[]\n",
    "s5_amb, s5_st1, s5_st2, s5_st3, s5_st4, s5_usp = [],[],[],[],[],[]\n",
    "s6_amb, s6_st1, s6_st2, s6_st3, s6_st4, s6_usp = [],[],[],[],[],[]\n",
    "s7_amb, s7_st1, s7_st2, s7_st3, s7_st4, s7_usp = [],[],[],[],[],[]\n",
    "s8_amb, s8_st1, s8_st2, s8_st3, s8_st4, s8_usp = [],[],[],[],[],[]\n",
    "s1_mh2o, s2_mh2o, s3_mh2o, s4_mh2o, s5_mh2o, s6_mh2o, s7_mh2o, s8_mh2o = [],[],[],[],[],[],[],[]\n",
    "\n",
    "# if you want to expand, make more loops within the range of each parameter\n",
    "# for months and years, 0 is only needed because there is only 1 value\n",
    "for j in range(len(days)):\n",
    "    for i in range(24): \n",
    "        s1_dates.append(days[j]+'-'+months[0]+'-'+years[0]+'-'+str(i)+':00:00')\n",
    "s1_dates.append('23-Jul-2017-0:00:00')\n",
    "\n",
    "# in the matfile, the values collected from Jul20 - Jul22 are within range 1440-576\n",
    "for k in range(576,1452,12):\n",
    "    # ts = temporary sum, these are used to hold the sums of a specified value for each hour since the data is currently spread in 5 minute intervals\n",
    "    ts_s1_rn, ts_s1_sup, ts_s1_sdn, ts_s1_lup, ts_s1_ldn, ts_s3_rn, ts_s4_rn, ts_s6_rn, ts_s8_rn, ts_s1_rain = 0,0,0,0,0,0,0,0,0,0\n",
    "    ts_s1_amb, ts_s1_st1, ts_s1_st2, ts_s1_st3, ts_s1_st4, ts_s1_usp, ts_s1_soilt = 0,0,0,0,0,0,0\n",
    "    ts_s1_e1, ts_s1_e3, ts_s1_e4, ts_s1_vwc3, ts_s1_vwc6, ts_s1_ws, ts_s1_bp, ts_s1_rh = 0,0,0,0,0,0,0,0 \n",
    "    ts_s2_amb, ts_s2_st1, ts_s2_st2, ts_s2_st3, ts_s2_st4, ts_s2_usp = 0,0,0,0,0,0\n",
    "    ts_s3_amb, ts_s3_st1, ts_s3_st2, ts_s3_st3, ts_s3_st4, ts_s3_usp = 0,0,0,0,0,0\n",
    "    ts_s4_amb, ts_s4_st1, ts_s4_st2, ts_s4_st3, ts_s4_st4, ts_s4_usp = 0,0,0,0,0,0\n",
    "    ts_s5_amb, ts_s5_st1, ts_s5_st2, ts_s5_st3, ts_s5_st4, ts_s5_usp = 0,0,0,0,0,0\n",
    "    ts_s6_amb, ts_s6_st1, ts_s6_st2, ts_s6_st3, ts_s6_st4, ts_s6_usp = 0,0,0,0,0,0\n",
    "    ts_s7_amb, ts_s7_st1, ts_s7_st2, ts_s7_st3, ts_s7_st4, ts_s7_usp = 0,0,0,0,0,0\n",
    "    ts_s8_amb, ts_s8_st1, ts_s8_st2, ts_s8_st3, ts_s8_st4, ts_s8_usp = 0,0,0,0,0,0\n",
    "    ts_s1_mh2o, ts_s2_mh2o, ts_s3_mh2o, ts_s4_mh2o, ts_s5_mh2o, ts_s6_mh2o, ts_s7_mh2o, ts_s8_mh2o = 0,0,0,0,0,0,0,0\n",
    "    # add up the values collected for each hour within each parameter\n",
    "    for l in range(0,12):\n",
    "        ts_s1_rn += float(matfile['S1']['RN'][0][0][k+l][0])\n",
    "        ts_s3_rn += float(matfile['S3']['RN'][0][0][k+l][0])\n",
    "        ts_s4_rn += float(matfile['S4']['RN'][0][0][k+l][0])\n",
    "        ts_s6_rn += float(matfile['S6']['RN'][0][0][k+l][0])\n",
    "        ts_s8_rn += float(matfile['S8']['RN'][0][0][k+l][0])\n",
    "        ts_s1_sup += float(matfile['S1']['SUP'][0][0][k+l][0])\n",
    "        ts_s1_sdn += float(matfile['S1']['SDN'][0][0][0][k+l])\n",
    "        ts_s1_lup += float(matfile['S1']['LUP'][0][0][k+l][0])\n",
    "        ts_s1_ldn += float(matfile['S1']['LDN'][0][0][k+l][0])\n",
    "        ts_s1_rain += float(matfile['S1']['RAIN'][0][0][k+l][0])\n",
    "        ts_s1_amb += float(matfile['S1']['AMB'][0][0][k+l][0])\n",
    "        ts_s2_amb += float(matfile['S2']['AMB'][0][0][k+l][0])\n",
    "        ts_s3_amb += float(matfile['S3']['AMB'][0][0][k+l][0])\n",
    "        ts_s4_amb += float(matfile['S4']['AMB'][0][0][k+l][0])\n",
    "        ts_s5_amb += float(matfile['S5']['AMB'][0][0][k+l][0])\n",
    "        ts_s6_amb += float(matfile['S6']['AMB'][0][0][k+l][0])\n",
    "        ts_s7_amb += float(matfile['S7']['AMB'][0][0][k+l][0])\n",
    "        ts_s8_amb += float(matfile['S8']['AMB'][0][0][k+l][0])\n",
    "        ts_s1_soilt += float(matfile['S1']['SOILT'][0][0][k+l][0])\n",
    "        ts_s1_st1 += float(matfile['S1']['ST1'][0][0][k+l][0])\n",
    "        ts_s2_st1 += float(matfile['S2']['ST1'][0][0][k+l][0])\n",
    "        ts_s3_st1 += float(matfile['S3']['ST1'][0][0][k+l][0])\n",
    "        ts_s4_st1 += float(matfile['S4']['ST1'][0][0][k+l][0])\n",
    "        ts_s5_st1 += float(matfile['S5']['ST1'][0][0][k+l][0])\n",
    "        ts_s6_st1 += float(matfile['S6']['ST1'][0][0][k+l][0])\n",
    "        ts_s7_st1 += float(matfile['S7']['ST1'][0][0][k+l][0])\n",
    "        ts_s8_st1 += float(matfile['S8']['ST1'][0][0][k+l][0])\n",
    "        ts_s1_st2 += float(matfile['S1']['ST2'][0][0][k+l][0])\n",
    "        ts_s2_st2 += float(matfile['S2']['ST2'][0][0][k+l][0])\n",
    "        ts_s3_st2 += float(matfile['S3']['ST2'][0][0][k+l][0])\n",
    "        ts_s4_st2 += float(matfile['S4']['ST2'][0][0][k+l][0])\n",
    "        ts_s5_st2 += float(matfile['S5']['ST2'][0][0][k+l][0])\n",
    "        ts_s6_st2 += float(matfile['S6']['ST2'][0][0][k+l][0])\n",
    "        ts_s7_st2 += float(matfile['S7']['ST2'][0][0][k+l][0])\n",
    "        ts_s8_st2 += float(matfile['S8']['ST2'][0][0][k+l][0])\n",
    "        ts_s1_st3 += float(matfile['S1']['ST3'][0][0][k+l][0])\n",
    "        ts_s2_st3 += float(matfile['S2']['ST3'][0][0][k+l][0])\n",
    "        ts_s3_st3 += float(matfile['S3']['ST3'][0][0][k+l][0])\n",
    "        ts_s4_st3 += float(matfile['S4']['ST3'][0][0][k+l][0])\n",
    "        ts_s5_st3 += float(matfile['S5']['ST3'][0][0][k+l][0])\n",
    "        ts_s6_st3 += float(matfile['S6']['ST3'][0][0][k+l][0])\n",
    "        ts_s7_st3 += float(matfile['S7']['ST3'][0][0][k+l][0])\n",
    "        ts_s8_st3 += float(matfile['S8']['ST3'][0][0][k+l][0])\n",
    "        ts_s1_st4 += float(matfile['S1']['ST4'][0][0][k+l][0])\n",
    "        ts_s2_st4 += float(matfile['S2']['ST4'][0][0][k+l][0])\n",
    "        ts_s3_st4 += float(matfile['S3']['ST4'][0][0][k+l][0])\n",
    "        ts_s4_st4 += float(matfile['S4']['ST4'][0][0][k+l][0])\n",
    "        ts_s5_st4 += float(matfile['S5']['ST4'][0][0][k+l][0])\n",
    "        ts_s6_st4 += float(matfile['S6']['ST4'][0][0][k+l][0])\n",
    "        ts_s7_st4 += float(matfile['S7']['ST4'][0][0][k+l][0])\n",
    "        ts_s8_st4 += float(matfile['S8']['ST4'][0][0][k+l][0])\n",
    "        ts_s1_usp += float(matfile['S1']['USP'][0][0][k+l][0])\n",
    "        ts_s2_usp += float(matfile['S2']['USP'][0][0][k+l][0])\n",
    "        ts_s3_usp += float(matfile['S3']['USP'][0][0][k+l][0])\n",
    "        ts_s4_usp += float(matfile['S4']['USP'][0][0][k+l][0])\n",
    "        ts_s5_usp += float(matfile['S5']['USP'][0][0][k+l][0])\n",
    "        ts_s6_usp += float(matfile['S6']['USP'][0][0][k+l][0])\n",
    "        ts_s7_usp += float(matfile['S7']['USP'][0][0][k+l][0])\n",
    "        ts_s8_usp += float(matfile['S8']['USP'][0][0][k+l][0])\n",
    "        ts_s1_e1 += float(matfile['S1']['E1'][0][0][k+l][0])\n",
    "        ts_s1_e3 += float(matfile['S1']['E3'][0][0][k+l][0])\n",
    "        ts_s1_e4 += float(matfile['S1']['E4'][0][0][k+l][0])\n",
    "        ts_s1_vwc3 += float(matfile['S1']['VWC3'][0][0][0][k+l])\n",
    "        ts_s1_vwc6 += float(matfile['S1']['VWC6'][0][0][0][k+l])\n",
    "        ts_s1_ws += float(matfile['S1']['WS'][0][0][k+l][0])\n",
    "        ts_s1_bp += float(matfile['S1']['BP'][0][0][k+l][0])\n",
    "        ts_s1_mh2o += float(matfile['S1']['MH2O'][0][0][k+1][0])\n",
    "        ts_s2_mh2o += float(matfile['S2']['MH2O'][0][0][0][k+l])\n",
    "        ts_s3_mh2o += float(matfile['S3']['MH2O'][0][0][k+1][0])\n",
    "        ts_s4_mh2o += float(matfile['S4']['MH2O'][0][0][k+1][0])\n",
    "        ts_s5_mh2o += float(matfile['S5']['MH2O'][0][0][0][k+1])\n",
    "        ts_s6_mh2o += float(matfile['S6']['MH2O'][0][0][k+1][0])\n",
    "        ts_s7_mh2o += float(matfile['S7']['MH2O'][0][0][0][k+1])\n",
    "        ts_s8_mh2o += float(matfile['S8']['MH2O'][0][0][k+1][0])\n",
    "        ts_s1_rh += float(matfile['S1']['RH'][0][0][k+1][0])\n",
    "        \n",
    "    # place the average for each parameter in the list for each parameter\n",
    "    s1_rn.append(ts_s1_rn/12)\n",
    "    s3_rn.append(ts_s3_rn/12)\n",
    "    s4_rn.append(ts_s4_rn/12)\n",
    "    s6_rn.append(ts_s6_rn/12)\n",
    "    s8_rn.append(ts_s8_rn/12)\n",
    "    s1_sup.append(ts_s1_sup/12)\n",
    "    s1_sdn.append(ts_s1_sdn/12)\n",
    "    s1_lup.append(ts_s1_lup/12)\n",
    "    s1_ldn.append(ts_s1_ldn/12)\n",
    "    s1_rain.append(ts_s1_rain/12)\n",
    "    s1_amb.append(ts_s1_amb/12)\n",
    "    s2_amb.append(ts_s2_amb/12)\n",
    "    s3_amb.append(ts_s3_amb/12)\n",
    "    s4_amb.append(ts_s4_amb/12)\n",
    "    s5_amb.append(ts_s5_amb/12)\n",
    "    s6_amb.append(ts_s6_amb/12)\n",
    "    s7_amb.append(ts_s7_amb/12)\n",
    "    s8_amb.append(ts_s8_amb/12)\n",
    "    s1_st1.append(ts_s1_st1/12)\n",
    "    s1_st2.append(ts_s1_st2/12)\n",
    "    s1_st3.append(ts_s1_st3/12)\n",
    "    s1_st4.append(ts_s1_st4/12)\n",
    "    s1_usp.append(ts_s1_usp/12)\n",
    "    s1_soilt.append(ts_s1_soilt/12)\n",
    "    s2_st1.append(ts_s2_st1/12)\n",
    "    s2_st2.append(ts_s2_st2/12)\n",
    "    s2_st3.append(ts_s2_st3/12)\n",
    "    s2_st4.append(ts_s2_st4/12)\n",
    "    s2_usp.append(ts_s2_usp/12)\n",
    "    s3_st1.append(ts_s3_st1/12)\n",
    "    s3_st2.append(ts_s3_st2/12)\n",
    "    s3_st3.append(ts_s3_st3/12)\n",
    "    s3_st4.append(ts_s3_st4/12)\n",
    "    s3_usp.append(ts_s3_usp/12)\n",
    "    s4_st1.append(ts_s4_st1/12)\n",
    "    s4_st2.append(ts_s4_st2/12)\n",
    "    s4_st3.append(ts_s4_st3/12)\n",
    "    s4_st4.append(ts_s4_st4/12)\n",
    "    s4_usp.append(ts_s4_usp/12)\n",
    "    s5_st1.append(ts_s5_st1/12)\n",
    "    s5_st2.append(ts_s5_st2/12)\n",
    "    s5_st3.append(ts_s5_st3/12)\n",
    "    s5_st4.append(ts_s5_st4/12)\n",
    "    s5_usp.append(ts_s5_usp/12)\n",
    "    s6_st1.append(ts_s6_st1/12)\n",
    "    s6_st2.append(ts_s6_st2/12)\n",
    "    s6_st3.append(ts_s6_st3/12)\n",
    "    s6_st4.append(ts_s6_st4/12)\n",
    "    s6_usp.append(ts_s6_usp/12)\n",
    "    s7_st1.append(ts_s7_st1/12)\n",
    "    s7_st2.append(ts_s7_st2/12)\n",
    "    s7_st3.append(ts_s7_st3/12)\n",
    "    s7_st4.append(ts_s7_st4/12)\n",
    "    s7_usp.append(ts_s7_usp/12)\n",
    "    s8_st1.append(ts_s8_st1/12)\n",
    "    s8_st2.append(ts_s8_st2/12)\n",
    "    s8_st3.append(ts_s8_st3/12)\n",
    "    s8_st4.append(ts_s8_st4/12)\n",
    "    s8_usp.append(ts_s8_usp/12)\n",
    "    s1_e1.append(ts_s1_e1/12)\n",
    "    s1_e3.append(ts_s1_e3/12)\n",
    "    s1_e4.append(ts_s1_e4/12)\n",
    "    s1_vwc3.append(ts_s1_vwc3/12)\n",
    "    s1_vwc6.append(ts_s1_vwc6/12)\n",
    "    s1_ws.append(ts_s1_ws/12)\n",
    "    s1_bp.append(ts_s1_bp/12)  \n",
    "    s1_mh2o.append(ts_s1_mh2o/12) \n",
    "    s2_mh2o.append(ts_s2_mh2o/12) \n",
    "    s3_mh2o.append(ts_s3_mh2o/12) \n",
    "    s4_mh2o.append(ts_s4_mh2o/12) \n",
    "    s5_mh2o.append(ts_s5_mh2o/12) \n",
    "    s6_mh2o.append(ts_s6_mh2o/12) \n",
    "    s7_mh2o.append(ts_s7_mh2o/12) \n",
    "    s8_mh2o.append(ts_s8_mh2o/12)\n",
    "    s1_rh.append(ts_s1_rh/12)\n",
    "# convert all of the lists generated before into numpy arrays so that they can be graphed\n",
    "np_dates = np.array(s1_dates)\n",
    "np_s1_rn = np.array(s1_rn)\n",
    "np_s1_sup = np.array(s1_sup)\n",
    "np_s1_sdn = np.array(s1_sdn)\n",
    "np_s1_lup = np.array(s1_lup)\n",
    "np_s1_ldn = np.array(s1_ldn)\n",
    "np_s3_rn = np.array(s3_rn)\n",
    "np_s4_rn = np.array(s4_rn)\n",
    "np_s6_rn = np.array(s6_rn)\n",
    "np_s8_rn = np.array(s8_rn)\n",
    "np_s1_rain = np.array(s1_rain)\n",
    "np_s1_amb = np.array(s1_amb)\n",
    "np_s2_amb = np.array(s2_amb)\n",
    "np_s3_amb = np.array(s3_amb)\n",
    "np_s4_amb = np.array(s4_amb)\n",
    "np_s5_amb = np.array(s5_amb)\n",
    "np_s6_amb = np.array(s6_amb)\n",
    "np_s7_amb = np.array(s7_amb)\n",
    "np_s8_amb = np.array(s8_amb)\n",
    "np_s1_st1 = np.array(s1_st1)\n",
    "np_s1_st2 = np.array(s1_st2)\n",
    "np_s1_st3 = np.array(s1_st3)\n",
    "np_s1_st4 = np.array(s1_st4)\n",
    "np_s1_usp = np.array(s1_usp)\n",
    "np_s1_soilt = np.array(s1_soilt)\n",
    "np_s2_st1 = np.array(s2_st1)\n",
    "np_s2_st2 = np.array(s2_st2)\n",
    "np_s2_st3 = np.array(s2_st3)\n",
    "np_s2_st4 = np.array(s2_st4)\n",
    "np_s2_usp = np.array(s2_usp)\n",
    "np_s3_st1 = np.array(s3_st1)\n",
    "np_s3_st2 = np.array(s3_st2)\n",
    "np_s3_st3 = np.array(s3_st3)\n",
    "np_s3_st4 = np.array(s3_st4)\n",
    "np_s3_usp = np.array(s3_usp)\n",
    "np_s4_st1 = np.array(s4_st1)\n",
    "np_s4_st2 = np.array(s4_st2)\n",
    "np_s4_st3 = np.array(s4_st3)\n",
    "np_s4_st4 = np.array(s4_st4)\n",
    "np_s4_usp = np.array(s4_usp)\n",
    "np_s5_st1 = np.array(s5_st1)\n",
    "np_s5_st2 = np.array(s5_st2)\n",
    "np_s5_st3 = np.array(s5_st3)\n",
    "np_s5_st4 = np.array(s5_st4)\n",
    "np_s5_usp = np.array(s5_usp)\n",
    "np_s6_st1 = np.array(s6_st1)\n",
    "np_s6_st2 = np.array(s6_st2)\n",
    "np_s6_st3 = np.array(s6_st3)\n",
    "np_s6_st4 = np.array(s6_st4)\n",
    "np_s6_usp = np.array(s6_usp)\n",
    "np_s7_st1 = np.array(s7_st1)\n",
    "np_s7_st2 = np.array(s7_st2)\n",
    "np_s7_st3 = np.array(s7_st3)\n",
    "np_s7_st4 = np.array(s7_st4)\n",
    "np_s7_usp = np.array(s7_usp)\n",
    "np_s8_st1 = np.array(s8_st1)\n",
    "np_s8_st2 = np.array(s8_st2)\n",
    "np_s8_st3 = np.array(s8_st3)\n",
    "np_s8_st4 = np.array(s8_st4)\n",
    "np_s8_usp = np.array(s8_usp)\n",
    "np_s1_e1 = np.array(s1_e1)\n",
    "np_s1_e3 = np.array(s1_e3)\n",
    "np_s1_e4 = np.array(s1_e4)\n",
    "np_s1_vwc3 = np.array(s1_vwc3)\n",
    "np_s1_vwc6 = np.array(s1_vwc6)\n",
    "np_s1_ws = np.array(s1_ws)\n",
    "np_s1_bp = np.array(s1_bp)\n",
    "np_s1_mh2o = np.array(s1_mh2o) \n",
    "np_s2_mh2o = np.array(s2_mh2o) \n",
    "np_s3_mh2o = np.array(s3_mh2o) \n",
    "np_s4_mh2o = np.array(s4_mh2o) \n",
    "np_s5_mh2o = np.array(s5_mh2o) \n",
    "np_s6_mh2o = np.array(s6_mh2o) \n",
    "np_s7_mh2o = np.array(s7_mh2o) \n",
    "np_s8_mh2o = np.array(s8_mh2o)\n",
    "np_s1_rh = np.array(s1_rh)\n",
    "x = []\n",
    "xlabels = []\n",
    "xticks = []\n",
    "xlim = (0,72)\n",
    "for i in range(73): x.append(i)\n",
    "for k in range(0,73,12): xticks.append(k)\n",
    "for j in range(0,73,12): xlabels.append(np_dates[j])"
   ]
  },
  {
   "cell_type": "code",
   "execution_count": 2,
   "metadata": {},
   "outputs": [
    {
     "data": {
      "image/png": "[encoded data removed]",
      "text/plain": [
       "<matplotlib.figure.Figure at 0x48730b8>"
      ]
     },
     "metadata": {},
     "output_type": "display_data"
    }
   ],
   "source": [
    "# Slab 1 Natural Radiation Plot \n",
    "plt.plot(x, np_s1_rn)\n",
    "plt.xlim(xlim)\n",
    "plt.xticks(xticks, xlabels, rotation= 45)\n",
    "plt.xlabel('Dates and Times(hr)')\n",
    "plt.ylabel('RN(W/m^2)')\n",
    "plt.title('Jul20-22 Slab1 RN')\n",
    "plt.grid(True)\n",
    "plt.show()"
   ]
  },
  {
   "cell_type": "code",
   "execution_count": 4,
   "metadata": {},
   "outputs": [
    {
     "data": {
      "text/html": [
       "<iframe id=\"igraph\" scrolling=\"no\" style=\"border:none;\" seamless=\"seamless\" src=\"https://plot.ly/~mattandersoninf/11.embed\" height=\"525px\" width=\"100%\"></iframe>"
      ],
      "text/plain": [
       "<plotly.tools.PlotlyDisplay object>"
      ]
     },
     "execution_count": 4,
     "metadata": {},
     "output_type": "execute_result"
    }
   ],
   "source": [
    "# Set layout for the plot\n",
    "layout4 = dict(\n",
    "    title = 'Jul20 Slab1 RN, SUP, SDN, LUP, LDN',\n",
    "    xaxis = dict(\n",
    "        title = 'Dates and Times(hr)',\n",
    "        titlefont=dict(\n",
    "            family='Old Standard TT, serif',\n",
    "            size=12,\n",
    "            color='black'\n",
    "        ),\n",
    "        tickangle = 45,\n",
    "        tickfont=dict(\n",
    "            family='Old Standard TT, serif',\n",
    "            size=8,\n",
    "            color='black'\n",
    "        )\n",
    "    ),\n",
    "\n",
    "    yaxis = dict(\n",
    "        title = 'RN, SUP, SDN, LUP, LDN',\n",
    "        titlefont=dict(\n",
    "            family='Old Standard TT, serif',\n",
    "            size=12,\n",
    "            color='black'\n",
    "        ),\n",
    "        tickangle = 45,\n",
    "        tickfont=dict(\n",
    "            family='Old Standard TT, serif',\n",
    "            size=8,\n",
    "            color='black'\n",
    "        )\n",
    "    ),\n",
    ")\n",
    "\n",
    "fig4 = dict(data=data4, layout=layout4)\n",
    "py.iplot(fig4, filename='S1RN_S1SUP_S1SDN_S1SDN_S1LUP_S1LDN')"
   ]
  },
  {
   "cell_type": "code",
   "execution_count": 4,
   "metadata": {},
   "outputs": [
    {
     "data": {
      "text/html": [
       "<iframe id=\"igraph\" scrolling=\"no\" style=\"border:none;\" seamless=\"seamless\" src=\"https://plot.ly/~mattandersoninf/13.embed\" height=\"525px\" width=\"100%\"></iframe>"
      ],
      "text/plain": [
       "<plotly.tools.PlotlyDisplay object>"
      ]
     },
     "execution_count": 4,
     "metadata": {},
     "output_type": "execute_result"
    }
   ],
   "source": [
    "# Set layout for the plot\n",
    "layout8 = dict(\n",
    "    title = 'Jul20-22 S1, S3, S4, S6, S8 RN',\n",
    "    xaxis = dict(\n",
    "        title = 'Dates and Times(hr)',\n",
    "        titlefont=dict(\n",
    "            family='Old Standard TT, serif',\n",
    "            size=12,\n",
    "            color='black'\n",
    "        ),\n",
    "        tickangle = 45,\n",
    "        tickfont=dict(\n",
    "            family='Old Standard TT, serif',\n",
    "            size=8,\n",
    "            color='black'\n",
    "        )\n",
    "    ),\n",
    "    yaxis = dict(\n",
    "        title = 'RN',\n",
    "        titlefont=dict(\n",
    "            family='Old Standard TT, serif',\n",
    "            size=12,\n",
    "            color='black'\n",
    "        ),\n",
    "        tickangle = 45,\n",
    "        tickfont=dict(\n",
    "            family='Old Standard TT, serif',\n",
    "            size=8,\n",
    "            color='black'\n",
    "        )\n",
    "    ),\n",
    ")\n",
    "\n",
    "fig8 = dict(data=data8, layout=layout8)\n",
    "py.iplot(fig8, filename='S1RN_S3RN_S4RN_S6RN_S8RN')"
   ]
  },
  {
   "cell_type": "code",
   "execution_count": 10,
   "metadata": {},
   "outputs": [
    {
     "ename": "PlotlyRequestError",
     "evalue": "Account limit reached: Your account is limited to creating 25 charts. To continue, you can override or delete existing charts or you can upgrade your account at: https://plot.ly/products/cloud",
     "output_type": "error",
     "traceback": [
      "\u001b[1;31m---------------------------------------------------------------------------\u001b[0m",
      "\u001b[1;31mPlotlyRequestError\u001b[0m                        Traceback (most recent call last)",
      "\u001b[1;32m<ipython-input-10-5745fd9eebba>\u001b[0m in \u001b[0;36m<module>\u001b[1;34m()\u001b[0m\n\u001b[0;32m     32\u001b[0m \u001b[1;33m\u001b[0m\u001b[0m\n\u001b[0;32m     33\u001b[0m \u001b[0mfig9\u001b[0m \u001b[1;33m=\u001b[0m \u001b[0mdict\u001b[0m\u001b[1;33m(\u001b[0m\u001b[0mdata\u001b[0m\u001b[1;33m=\u001b[0m\u001b[0mdata9\u001b[0m\u001b[1;33m,\u001b[0m \u001b[0mlayout\u001b[0m\u001b[1;33m=\u001b[0m\u001b[0mlayout9\u001b[0m\u001b[1;33m)\u001b[0m\u001b[1;33m\u001b[0m\u001b[0m\n\u001b[1;32m---> 34\u001b[1;33m \u001b[0mpy\u001b[0m\u001b[1;33m.\u001b[0m\u001b[0miplot\u001b[0m\u001b[1;33m(\u001b[0m\u001b[0mfig9\u001b[0m\u001b[1;33m,\u001b[0m \u001b[0mfilename\u001b[0m\u001b[1;33m=\u001b[0m\u001b[1;34m'S1RAIN'\u001b[0m\u001b[1;33m)\u001b[0m\u001b[1;33m\u001b[0m\u001b[0m\n\u001b[0m",
      "\u001b[1;32mC:\\Users\\mattanderson\\AppData\\Local\\Continuum\\Anaconda3\\lib\\site-packages\\plotly\\plotly\\plotly.py\u001b[0m in \u001b[0;36miplot\u001b[1;34m(figure_or_data, **plot_options)\u001b[0m\n\u001b[0;32m    132\u001b[0m     \u001b[1;32mif\u001b[0m \u001b[1;34m'auto_open'\u001b[0m \u001b[1;32mnot\u001b[0m \u001b[1;32min\u001b[0m \u001b[0mplot_options\u001b[0m\u001b[1;33m:\u001b[0m\u001b[1;33m\u001b[0m\u001b[0m\n\u001b[0;32m    133\u001b[0m         \u001b[0mplot_options\u001b[0m\u001b[1;33m[\u001b[0m\u001b[1;34m'auto_open'\u001b[0m\u001b[1;33m]\u001b[0m \u001b[1;33m=\u001b[0m \u001b[1;32mFalse\u001b[0m\u001b[1;33m\u001b[0m\u001b[0m\n\u001b[1;32m--> 134\u001b[1;33m     \u001b[0murl\u001b[0m \u001b[1;33m=\u001b[0m \u001b[0mplot\u001b[0m\u001b[1;33m(\u001b[0m\u001b[0mfigure_or_data\u001b[0m\u001b[1;33m,\u001b[0m \u001b[1;33m**\u001b[0m\u001b[0mplot_options\u001b[0m\u001b[1;33m)\u001b[0m\u001b[1;33m\u001b[0m\u001b[0m\n\u001b[0m\u001b[0;32m    135\u001b[0m \u001b[1;33m\u001b[0m\u001b[0m\n\u001b[0;32m    136\u001b[0m     \u001b[1;32mif\u001b[0m \u001b[0misinstance\u001b[0m\u001b[1;33m(\u001b[0m\u001b[0mfigure_or_data\u001b[0m\u001b[1;33m,\u001b[0m \u001b[0mdict\u001b[0m\u001b[1;33m)\u001b[0m\u001b[1;33m:\u001b[0m\u001b[1;33m\u001b[0m\u001b[0m\n",
      "\u001b[1;32mC:\\Users\\mattanderson\\AppData\\Local\\Continuum\\Anaconda3\\lib\\site-packages\\plotly\\plotly\\plotly.py\u001b[0m in \u001b[0;36mplot\u001b[1;34m(figure_or_data, validate, **plot_options)\u001b[0m\n\u001b[0;32m    225\u001b[0m     \u001b[0mdata\u001b[0m \u001b[1;33m=\u001b[0m \u001b[0mfig\u001b[0m\u001b[1;33m.\u001b[0m\u001b[0mget\u001b[0m\u001b[1;33m(\u001b[0m\u001b[1;34m'data'\u001b[0m\u001b[1;33m,\u001b[0m \u001b[1;33m[\u001b[0m\u001b[1;33m]\u001b[0m\u001b[1;33m)\u001b[0m\u001b[1;33m\u001b[0m\u001b[0m\n\u001b[0;32m    226\u001b[0m     \u001b[0mplot_options\u001b[0m\u001b[1;33m[\u001b[0m\u001b[1;34m'layout'\u001b[0m\u001b[1;33m]\u001b[0m \u001b[1;33m=\u001b[0m \u001b[0mfig\u001b[0m\u001b[1;33m.\u001b[0m\u001b[0mget\u001b[0m\u001b[1;33m(\u001b[0m\u001b[1;34m'layout'\u001b[0m\u001b[1;33m,\u001b[0m \u001b[1;33m{\u001b[0m\u001b[1;33m}\u001b[0m\u001b[1;33m)\u001b[0m\u001b[1;33m\u001b[0m\u001b[0m\n\u001b[1;32m--> 227\u001b[1;33m     \u001b[0mresponse\u001b[0m \u001b[1;33m=\u001b[0m \u001b[0mv1\u001b[0m\u001b[1;33m.\u001b[0m\u001b[0mclientresp\u001b[0m\u001b[1;33m(\u001b[0m\u001b[0mdata\u001b[0m\u001b[1;33m,\u001b[0m \u001b[1;33m**\u001b[0m\u001b[0mplot_options\u001b[0m\u001b[1;33m)\u001b[0m\u001b[1;33m\u001b[0m\u001b[0m\n\u001b[0m\u001b[0;32m    228\u001b[0m \u001b[1;33m\u001b[0m\u001b[0m\n\u001b[0;32m    229\u001b[0m     \u001b[1;31m# Check if the url needs a secret key\u001b[0m\u001b[1;33m\u001b[0m\u001b[1;33m\u001b[0m\u001b[0m\n",
      "\u001b[1;32mC:\\Users\\mattanderson\\AppData\\Local\\Continuum\\Anaconda3\\lib\\site-packages\\plotly\\api\\v1\\clientresp.py\u001b[0m in \u001b[0;36mclientresp\u001b[1;34m(data, **kwargs)\u001b[0m\n\u001b[0;32m     33\u001b[0m \u001b[1;33m\u001b[0m\u001b[0m\n\u001b[0;32m     34\u001b[0m     \u001b[0murl\u001b[0m \u001b[1;33m=\u001b[0m \u001b[1;34m'{plotly_domain}/clientresp'\u001b[0m\u001b[1;33m.\u001b[0m\u001b[0mformat\u001b[0m\u001b[1;33m(\u001b[0m\u001b[1;33m**\u001b[0m\u001b[0mcfg\u001b[0m\u001b[1;33m)\u001b[0m\u001b[1;33m\u001b[0m\u001b[0m\n\u001b[1;32m---> 35\u001b[1;33m     \u001b[0mresponse\u001b[0m \u001b[1;33m=\u001b[0m \u001b[0mrequest\u001b[0m\u001b[1;33m(\u001b[0m\u001b[1;34m'post'\u001b[0m\u001b[1;33m,\u001b[0m \u001b[0murl\u001b[0m\u001b[1;33m,\u001b[0m \u001b[0mdata\u001b[0m\u001b[1;33m=\u001b[0m\u001b[0mpayload\u001b[0m\u001b[1;33m)\u001b[0m\u001b[1;33m\u001b[0m\u001b[0m\n\u001b[0m\u001b[0;32m     36\u001b[0m \u001b[1;33m\u001b[0m\u001b[0m\n\u001b[0;32m     37\u001b[0m     \u001b[1;31m# Old functionality, just keeping it around.\u001b[0m\u001b[1;33m\u001b[0m\u001b[1;33m\u001b[0m\u001b[0m\n",
      "\u001b[1;32mC:\\Users\\mattanderson\\AppData\\Local\\Continuum\\Anaconda3\\lib\\site-packages\\plotly\\api\\v1\\utils.py\u001b[0m in \u001b[0;36mrequest\u001b[1;34m(method, url, **kwargs)\u001b[0m\n\u001b[0;32m     84\u001b[0m         \u001b[0mcontent\u001b[0m \u001b[1;33m=\u001b[0m \u001b[0mresponse\u001b[0m\u001b[1;33m.\u001b[0m\u001b[0mcontent\u001b[0m \u001b[1;32mif\u001b[0m \u001b[0mresponse\u001b[0m \u001b[1;32melse\u001b[0m \u001b[1;34m'No content'\u001b[0m\u001b[1;33m\u001b[0m\u001b[0m\n\u001b[0;32m     85\u001b[0m         \u001b[1;32mraise\u001b[0m \u001b[0mexceptions\u001b[0m\u001b[1;33m.\u001b[0m\u001b[0mPlotlyRequestError\u001b[0m\u001b[1;33m(\u001b[0m\u001b[0mmessage\u001b[0m\u001b[1;33m,\u001b[0m \u001b[0mstatus_code\u001b[0m\u001b[1;33m,\u001b[0m \u001b[0mcontent\u001b[0m\u001b[1;33m)\u001b[0m\u001b[1;33m\u001b[0m\u001b[0m\n\u001b[1;32m---> 86\u001b[1;33m     \u001b[0mvalidate_response\u001b[0m\u001b[1;33m(\u001b[0m\u001b[0mresponse\u001b[0m\u001b[1;33m)\u001b[0m\u001b[1;33m\u001b[0m\u001b[0m\n\u001b[0m\u001b[0;32m     87\u001b[0m     \u001b[1;32mreturn\u001b[0m \u001b[0mresponse\u001b[0m\u001b[1;33m\u001b[0m\u001b[0m\n",
      "\u001b[1;32mC:\\Users\\mattanderson\\AppData\\Local\\Continuum\\Anaconda3\\lib\\site-packages\\plotly\\api\\v1\\utils.py\u001b[0m in \u001b[0;36mvalidate_response\u001b[1;34m(response)\u001b[0m\n\u001b[0;32m     36\u001b[0m         \u001b[0mmessage\u001b[0m \u001b[1;33m=\u001b[0m \u001b[0mcontent\u001b[0m \u001b[1;32mif\u001b[0m \u001b[0mcontent\u001b[0m \u001b[1;32melse\u001b[0m \u001b[1;34m'No Content'\u001b[0m\u001b[1;33m\u001b[0m\u001b[0m\n\u001b[0;32m     37\u001b[0m \u001b[1;33m\u001b[0m\u001b[0m\n\u001b[1;32m---> 38\u001b[1;33m     \u001b[1;32mraise\u001b[0m \u001b[0mexceptions\u001b[0m\u001b[1;33m.\u001b[0m\u001b[0mPlotlyRequestError\u001b[0m\u001b[1;33m(\u001b[0m\u001b[0mmessage\u001b[0m\u001b[1;33m,\u001b[0m \u001b[0mstatus_code\u001b[0m\u001b[1;33m,\u001b[0m \u001b[0mcontent\u001b[0m\u001b[1;33m)\u001b[0m\u001b[1;33m\u001b[0m\u001b[0m\n\u001b[0m\u001b[0;32m     39\u001b[0m \u001b[1;33m\u001b[0m\u001b[0m\n\u001b[0;32m     40\u001b[0m \u001b[1;33m\u001b[0m\u001b[0m\n",
      "\u001b[1;31mPlotlyRequestError\u001b[0m: Account limit reached: Your account is limited to creating 25 charts. To continue, you can override or delete existing charts or you can upgrade your account at: https://plot.ly/products/cloud"
     ]
    }
   ],
   "source": [
    "# Set layout for the plot\n",
    "layout9 = dict(\n",
    "    title = 'Jul20-22 S1 RAIN',\n",
    "    xaxis = dict(\n",
    "        title = 'Dates and Times(hr)',\n",
    "        titlefont=dict(\n",
    "            family='Old Standard TT, serif',\n",
    "            size=12,\n",
    "            color='black'\n",
    "        ),\n",
    "        tickangle = 45,\n",
    "        tickfont = dict(\n",
    "            family='Old Standard TT, serif',\n",
    "            size=8,\n",
    "            color='black'\n",
    "        )\n",
    "    ),\n",
    "    yaxis = dict(\n",
    "        title = 'RN(W/m^2)',\n",
    "        titlefont=dict(\n",
    "            family='Old Standard TT, serif',\n",
    "            size=12,\n",
    "            color='black'\n",
    "        ),\n",
    "        tickfont = dict(\n",
    "            family='Old Standard TT, serif',\n",
    "            size=8,\n",
    "            color='black'\n",
    "        )\n",
    "    )\n",
    ")\n",
    "\n",
    "fig9 = dict(data=data9, layout=layout9)\n",
    "py.iplot(fig9, filename='S1RAIN')"
   ]
  },
  {
   "cell_type": "code",
   "execution_count": 11,
   "metadata": {},
   "outputs": [
    {
     "data": {
      "text/html": [
       "<iframe id=\"igraph\" scrolling=\"no\" style=\"border:none;\" seamless=\"seamless\" src=\"https://plot.ly/~mattandersoninf/17.embed\" height=\"525px\" width=\"100%\"></iframe>"
      ],
      "text/plain": [
       "<plotly.tools.PlotlyDisplay object>"
      ]
     },
     "execution_count": 11,
     "metadata": {},
     "output_type": "execute_result"
    }
   ],
   "source": [
    "layout12 = dict(\n",
    "    title = 'Slab1 thermocouples',\n",
    "    xaxis = dict(\n",
    "        title = 'Dates and Times(hr)',\n",
    "        titlefont=dict(\n",
    "            family='Old Standard TT, serif',\n",
    "            size=12,\n",
    "            color='black'\n",
    "        ),\n",
    "        tickangle = 45,\n",
    "        tickfont = dict(\n",
    "            family='Old Standard TT, serif',\n",
    "            size=8,\n",
    "            color='black'\n",
    "        )\n",
    "    ),\n",
    "    yaxis = dict(\n",
    "        title = 'DegC',\n",
    "        titlefont=dict(\n",
    "            family='Old Standard TT, serif',\n",
    "            size=12,\n",
    "            color='black'\n",
    "        ),\n",
    "        tickfont = dict(\n",
    "            family='Old Standard TT, serif',\n",
    "            size=8,\n",
    "            color='black'\n",
    "        )\n",
    "    )\n",
    ")\n",
    "\n",
    "fig12 = dict(data=data12, layout=layout12)\n",
    "py.iplot(fig12, filename='S1Thermocouples')"
   ]
  },
  {
   "cell_type": "code",
   "execution_count": 4,
   "metadata": {},
   "outputs": [
    {
     "data": {
      "text/html": [
       "<iframe id=\"igraph\" scrolling=\"no\" style=\"border:none;\" seamless=\"seamless\" src=\"https://plot.ly/~mattandersoninf/19.embed\" height=\"525px\" width=\"100%\"></iframe>"
      ],
      "text/plain": [
       "<plotly.tools.PlotlyDisplay object>"
      ]
     },
     "execution_count": 4,
     "metadata": {},
     "output_type": "execute_result"
    }
   ],
   "source": [
    "layout13 = dict(\n",
    "    title = 'Slab2 thermocouples',\n",
    "    xaxis = dict(\n",
    "        title = 'Dates and Times(hr)',\n",
    "        titlefont=dict(\n",
    "            family='Old Standard TT, serif',\n",
    "            size=12,\n",
    "            color='black'\n",
    "        ),\n",
    "        tickangle = 45,\n",
    "        tickfont = dict(\n",
    "            family='Old Standard TT, serif',\n",
    "            size=8,\n",
    "            color='black'\n",
    "        )\n",
    "    ),\n",
    "    yaxis = dict(\n",
    "        title = 'DegC',\n",
    "        titlefont=dict(\n",
    "            family='Old Standard TT, serif',\n",
    "            size=12,\n",
    "            color='black'\n",
    "        ),\n",
    "        tickfont = dict(\n",
    "            family='Old Standard TT, serif',\n",
    "            size=8,\n",
    "            color='black'\n",
    "        )\n",
    "    )\n",
    ")\n",
    "\n",
    "fig13 = dict(data=data13, layout=layout13)\n",
    "py.iplot(fig13, filename='S2Thermocouples')"
   ]
  },
  {
   "cell_type": "code",
   "execution_count": 6,
   "metadata": {},
   "outputs": [
    {
     "data": {
      "text/html": [
       "<iframe id=\"igraph\" scrolling=\"no\" style=\"border:none;\" seamless=\"seamless\" src=\"https://plot.ly/~mattandersoninf/21.embed\" height=\"525px\" width=\"100%\"></iframe>"
      ],
      "text/plain": [
       "<plotly.tools.PlotlyDisplay object>"
      ]
     },
     "execution_count": 6,
     "metadata": {},
     "output_type": "execute_result"
    }
   ],
   "source": [
    "layout14 = dict(\n",
    "    title = 'Slab3 thermocouples',\n",
    "    xaxis = dict(\n",
    "        title = 'Dates and Times(hr)',\n",
    "        titlefont=dict(\n",
    "            family='Old Standard TT, serif',\n",
    "            size=12,\n",
    "            color='black'\n",
    "        ),\n",
    "        tickangle = 45,\n",
    "        tickfont = dict(\n",
    "            family='Old Standard TT, serif',\n",
    "            size=8,\n",
    "            color='black'\n",
    "        )\n",
    "    ),\n",
    "    yaxis = dict(\n",
    "        title = 'DegC',\n",
    "        titlefont=dict(\n",
    "            family='Old Standard TT, serif',\n",
    "            size=12,\n",
    "            color='black'\n",
    "        ),\n",
    "        tickfont = dict(\n",
    "            family='Old Standard TT, serif',\n",
    "            size=8,\n",
    "            color='black'\n",
    "        )\n",
    "    )\n",
    ")\n",
    "\n",
    "fig14 = dict(data=data14, layout=layout14)\n",
    "py.iplot(fig14, filename='S3Thermocouples')"
   ]
  },
  {
   "cell_type": "code",
   "execution_count": 7,
   "metadata": {},
   "outputs": [
    {
     "data": {
      "text/html": [
       "<iframe id=\"igraph\" scrolling=\"no\" style=\"border:none;\" seamless=\"seamless\" src=\"https://plot.ly/~mattandersoninf/23.embed\" height=\"525px\" width=\"100%\"></iframe>"
      ],
      "text/plain": [
       "<plotly.tools.PlotlyDisplay object>"
      ]
     },
     "execution_count": 7,
     "metadata": {},
     "output_type": "execute_result"
    }
   ],
   "source": [
    "layout15 = dict(\n",
    "    title = 'Slab4 thermocouples',\n",
    "    xaxis = dict(\n",
    "        title = 'Dates and Times(hr)',\n",
    "        titlefont=dict(\n",
    "            family='Old Standard TT, serif',\n",
    "            size=12,\n",
    "            color='black'\n",
    "        ),\n",
    "        tickangle = 45,\n",
    "        tickfont = dict(\n",
    "            family='Old Standard TT, serif',\n",
    "            size=8,\n",
    "            color='black'\n",
    "        )\n",
    "    ),\n",
    "    yaxis = dict(\n",
    "        title = 'DegC',\n",
    "        titlefont=dict(\n",
    "            family='Old Standard TT, serif',\n",
    "            size=12,\n",
    "            color='black'\n",
    "        ),\n",
    "        tickfont = dict(\n",
    "            family='Old Standard TT, serif',\n",
    "            size=8,\n",
    "            color='black'\n",
    "        )\n",
    "    )\n",
    ")\n",
    "\n",
    "fig15 = dict(data=data15, layout=layout15)\n",
    "py.iplot(fig15, filename='S4Thermocouples')"
   ]
  },
  {
   "cell_type": "code",
   "execution_count": 9,
   "metadata": {},
   "outputs": [
    {
     "data": {
      "text/html": [
       "<iframe id=\"igraph\" scrolling=\"no\" style=\"border:none;\" seamless=\"seamless\" src=\"https://plot.ly/~mattandersoninf/25.embed\" height=\"525px\" width=\"100%\"></iframe>"
      ],
      "text/plain": [
       "<plotly.tools.PlotlyDisplay object>"
      ]
     },
     "execution_count": 9,
     "metadata": {},
     "output_type": "execute_result"
    }
   ],
   "source": [
    "layout16 = dict(\n",
    "    title = 'Slab1 thermocouples',\n",
    "    xaxis = dict(\n",
    "        title = 'Dates and Times(hr)',\n",
    "        titlefont=dict(\n",
    "            family='Old Standard TT, serif',\n",
    "            size=12,\n",
    "            color='black'\n",
    "        ),\n",
    "        tickangle = 45,\n",
    "        tickfont = dict(\n",
    "            family='Old Standard TT, serif',\n",
    "            size=8,\n",
    "            color='black'\n",
    "        )\n",
    "    ),\n",
    "    yaxis = dict(\n",
    "        title = 'DegC',\n",
    "        titlefont=dict(\n",
    "            family='Old Standard TT, serif',\n",
    "            size=12,\n",
    "            color='black'\n",
    "        ),\n",
    "        tickfont = dict(\n",
    "            family='Old Standard TT, serif',\n",
    "            size=8,\n",
    "            color='black'\n",
    "        )\n",
    "    )\n",
    ")\n",
    "\n",
    "fig16 = dict(data=data16, layout=layout16)\n",
    "py.iplot(fig16, filename='S5Thermocouples')"
   ]
  },
  {
   "cell_type": "code",
   "execution_count": 10,
   "metadata": {},
   "outputs": [
    {
     "data": {
      "text/html": [
       "<iframe id=\"igraph\" scrolling=\"no\" style=\"border:none;\" seamless=\"seamless\" src=\"https://plot.ly/~mattandersoninf/27.embed\" height=\"525px\" width=\"100%\"></iframe>"
      ],
      "text/plain": [
       "<plotly.tools.PlotlyDisplay object>"
      ]
     },
     "execution_count": 10,
     "metadata": {},
     "output_type": "execute_result"
    }
   ],
   "source": [
    "layout17 = dict(\n",
    "    title = 'Slab6 thermocouples',\n",
    "    xaxis = dict(\n",
    "        title = 'Dates and Times(hr)',\n",
    "        titlefont=dict(\n",
    "            family='Old Standard TT, serif',\n",
    "            size=12,\n",
    "            color='black'\n",
    "        ),\n",
    "        tickangle = 45,\n",
    "        tickfont = dict(\n",
    "            family='Old Standard TT, serif',\n",
    "            size=8,\n",
    "            color='black'\n",
    "        )\n",
    "    ),\n",
    "    yaxis = dict(\n",
    "        title = 'DegC',\n",
    "        titlefont=dict(\n",
    "            family='Old Standard TT, serif',\n",
    "            size=12,\n",
    "            color='black'\n",
    "        ),\n",
    "        tickfont = dict(\n",
    "            family='Old Standard TT, serif',\n",
    "            size=8,\n",
    "            color='black'\n",
    "        )\n",
    "    )\n",
    ")\n",
    "\n",
    "fig17 = dict(data=data17, layout=layout17)\n",
    "py.iplot(fig17, filename='S6Thermocouples')"
   ]
  },
  {
   "cell_type": "code",
   "execution_count": 11,
   "metadata": {},
   "outputs": [
    {
     "data": {
      "text/html": [
       "<iframe id=\"igraph\" scrolling=\"no\" style=\"border:none;\" seamless=\"seamless\" src=\"https://plot.ly/~mattandersoninf/29.embed\" height=\"525px\" width=\"100%\"></iframe>"
      ],
      "text/plain": [
       "<plotly.tools.PlotlyDisplay object>"
      ]
     },
     "execution_count": 11,
     "metadata": {},
     "output_type": "execute_result"
    }
   ],
   "source": [
    "layout18 = dict(\n",
    "    title = 'Slab7 thermocouples',\n",
    "    xaxis = dict(\n",
    "        title = 'Dates and Times(hr)',\n",
    "        titlefont=dict(\n",
    "            family='Old Standard TT, serif',\n",
    "            size=12,\n",
    "            color='black'\n",
    "        ),\n",
    "        tickangle = 45,\n",
    "        tickfont = dict(\n",
    "            family='Old Standard TT, serif',\n",
    "            size=8,\n",
    "            color='black'\n",
    "        )\n",
    "    ),\n",
    "    yaxis = dict(\n",
    "        title = 'DegC',\n",
    "        titlefont=dict(\n",
    "            family='Old Standard TT, serif',\n",
    "            size=12,\n",
    "            color='black'\n",
    "        ),\n",
    "        tickfont = dict(\n",
    "            family='Old Standard TT, serif',\n",
    "            size=8,\n",
    "            color='black'\n",
    "        )\n",
    "    )\n",
    ")\n",
    "\n",
    "fig18 = dict(data=data18, layout=layout18)\n",
    "py.iplot(fig18, filename='S7Thermocouples')"
   ]
  },
  {
   "cell_type": "code",
   "execution_count": 12,
   "metadata": {},
   "outputs": [
    {
     "data": {
      "text/html": [
       "<iframe id=\"igraph\" scrolling=\"no\" style=\"border:none;\" seamless=\"seamless\" src=\"https://plot.ly/~mattandersoninf/31.embed\" height=\"525px\" width=\"100%\"></iframe>"
      ],
      "text/plain": [
       "<plotly.tools.PlotlyDisplay object>"
      ]
     },
     "execution_count": 12,
     "metadata": {},
     "output_type": "execute_result"
    }
   ],
   "source": [
    "layout19 = dict(\n",
    "    title = 'Slab8 thermocouples',\n",
    "    xaxis = dict(\n",
    "        title = 'Dates and Times(hr)',\n",
    "        titlefont=dict(\n",
    "            family='Old Standard TT, serif',\n",
    "            size=12,\n",
    "            color='black'\n",
    "        ),\n",
    "        tickangle = 45,\n",
    "        tickfont = dict(\n",
    "            family='Old Standard TT, serif',\n",
    "            size=8,\n",
    "            color='black'\n",
    "        )\n",
    "    ),\n",
    "    yaxis = dict(\n",
    "        title = 'DegC',\n",
    "        titlefont=dict(\n",
    "            family='Old Standard TT, serif',\n",
    "            size=12,\n",
    "            color='black'\n",
    "        ),\n",
    "        tickfont = dict(\n",
    "            family='Old Standard TT, serif',\n",
    "            size=8,\n",
    "            color='black'\n",
    "        )\n",
    "    )\n",
    ")\n",
    "\n",
    "fig19 = dict(data=data19, layout=layout19)\n",
    "py.iplot(fig19, filename='S8Thermocouples')"
   ]
  },
  {
   "cell_type": "code",
   "execution_count": 14,
   "metadata": {},
   "outputs": [
    {
     "data": {
      "text/html": [
       "<iframe id=\"igraph\" scrolling=\"no\" style=\"border:none;\" seamless=\"seamless\" src=\"https://plot.ly/~mattandersoninf/33.embed\" height=\"525px\" width=\"100%\"></iframe>"
      ],
      "text/plain": [
       "<plotly.tools.PlotlyDisplay object>"
      ]
     },
     "execution_count": 14,
     "metadata": {},
     "output_type": "execute_result"
    }
   ],
   "source": [
    "layout20 = dict(\n",
    "    title = 'Slabs1-8 ST1',\n",
    "    xaxis = dict(\n",
    "        title = 'Dates and Times(hr)',\n",
    "        titlefont=dict(\n",
    "            family='Old Standard TT, serif',\n",
    "            size=12,\n",
    "            color='black'\n",
    "        ),\n",
    "        tickangle = 45,\n",
    "        tickfont = dict(\n",
    "            family='Old Standard TT, serif',\n",
    "            size=8,\n",
    "            color='black'\n",
    "        )\n",
    "    ),\n",
    "    yaxis = dict(\n",
    "        title = 'DegC',\n",
    "        titlefont=dict(\n",
    "            family='Old Standard TT, serif',\n",
    "            size=12,\n",
    "            color='black'\n",
    "        ),\n",
    "        tickfont = dict(\n",
    "            family='Old Standard TT, serif',\n",
    "            size=8,\n",
    "            color='black'\n",
    "        )\n",
    "    )\n",
    ")\n",
    "\n",
    "fig20 = dict(data=data20, layout=layout20)\n",
    "py.iplot(fig20, filename='Slabs1-8 ST1')"
   ]
  },
  {
   "cell_type": "code",
   "execution_count": 15,
   "metadata": {},
   "outputs": [
    {
     "data": {
      "text/html": [
       "<iframe id=\"igraph\" scrolling=\"no\" style=\"border:none;\" seamless=\"seamless\" src=\"https://plot.ly/~mattandersoninf/35.embed\" height=\"525px\" width=\"100%\"></iframe>"
      ],
      "text/plain": [
       "<plotly.tools.PlotlyDisplay object>"
      ]
     },
     "execution_count": 15,
     "metadata": {},
     "output_type": "execute_result"
    }
   ],
   "source": [
    "layout23 = dict(\n",
    "    title = 'S1 AMB and E1',\n",
    "    xaxis = dict(\n",
    "        title = 'Dates and Times(hr)',\n",
    "        titlefont=dict(\n",
    "            family='Old Standard TT, serif',\n",
    "            size=12,\n",
    "            color='black'\n",
    "        ),\n",
    "        tickangle = 45,\n",
    "        tickfont = dict(\n",
    "            family='Old Standard TT, serif',\n",
    "            size=8,\n",
    "            color='black'\n",
    "        )\n",
    "    ),\n",
    "    yaxis = dict(\n",
    "        title = 'DegC',\n",
    "        titlefont=dict(\n",
    "            family='Old Standard TT, serif',\n",
    "            size=12,\n",
    "            color='black'\n",
    "        ),\n",
    "        tickfont = dict(\n",
    "            family='Old Standard TT, serif',\n",
    "            size=8,\n",
    "            color='black'\n",
    "        )\n",
    "    )\n",
    ")\n",
    "\n",
    "fig23 = dict(data=data23, layout=layout23)\n",
    "py.iplot(fig23, filename='S1 AMB and E1')\n"
   ]
  },
  {
   "cell_type": "code",
   "execution_count": 16,
   "metadata": {},
   "outputs": [
    {
     "data": {
      "text/html": [
       "<iframe id=\"igraph\" scrolling=\"no\" style=\"border:none;\" seamless=\"seamless\" src=\"https://plot.ly/~mattandersoninf/37.embed\" height=\"525px\" width=\"100%\"></iframe>"
      ],
      "text/plain": [
       "<plotly.tools.PlotlyDisplay object>"
      ]
     },
     "execution_count": 16,
     "metadata": {},
     "output_type": "execute_result"
    }
   ],
   "source": [
    "layout24 = dict(\n",
    "    title = 'Sl AMB E1 USP and SOILT3',\n",
    "    xaxis = dict(\n",
    "        title = 'Dates and Times(hr)',\n",
    "        titlefont=dict(\n",
    "            family='Old Standard TT, serif',\n",
    "            size=12,\n",
    "            color='black'\n",
    "        ),\n",
    "        tickangle = 45,\n",
    "        tickfont = dict(\n",
    "            family='Old Standard TT, serif',\n",
    "            size=8,\n",
    "            color='black'\n",
    "        )\n",
    "    ),\n",
    "    yaxis = dict(\n",
    "        title = 'DegC',\n",
    "        titlefont=dict(\n",
    "            family='Old Standard TT, serif',\n",
    "            size=12,\n",
    "            color='black'\n",
    "        ),\n",
    "        tickfont = dict(\n",
    "            family='Old Standard TT, serif',\n",
    "            size=8,\n",
    "            color='black'\n",
    "        )\n",
    "    )\n",
    ")\n",
    "\n",
    "fig24 = dict(data=data24, layout=layout24)\n",
    "py.iplot(fig24, filename='S1 AMB E1 USP and SOILT3')"
   ]
  },
  {
   "cell_type": "code",
   "execution_count": 17,
   "metadata": {},
   "outputs": [
    {
     "data": {
      "text/html": [
       "<iframe id=\"igraph\" scrolling=\"no\" style=\"border:none;\" seamless=\"seamless\" src=\"https://plot.ly/~mattandersoninf/39.embed\" height=\"525px\" width=\"100%\"></iframe>"
      ],
      "text/plain": [
       "<plotly.tools.PlotlyDisplay object>"
      ]
     },
     "execution_count": 17,
     "metadata": {},
     "output_type": "execute_result"
    }
   ],
   "source": [
    "layout25 = dict(\n",
    "    title = 'S1 AMB E1 E3 and E4',\n",
    "    xaxis = dict(\n",
    "        title = 'Dates and Times(hr)',\n",
    "        titlefont=dict(\n",
    "            family='Old Standard TT, serif',\n",
    "            size=12,\n",
    "            color='black'\n",
    "        ),\n",
    "        tickangle = 45,\n",
    "        tickfont = dict(\n",
    "            family='Old Standard TT, serif',\n",
    "            size=8,\n",
    "            color='black'\n",
    "        )\n",
    "    ),\n",
    "    yaxis = dict(\n",
    "        title = 'DegC',\n",
    "        titlefont=dict(\n",
    "            family='Old Standard TT, serif',\n",
    "            size=12,\n",
    "            color='black'\n",
    "        ),\n",
    "        tickfont = dict(\n",
    "            family='Old Standard TT, serif',\n",
    "            size=8,\n",
    "            color='black'\n",
    "        )\n",
    "    )\n",
    ")\n",
    "\n",
    "fig25 = dict(data=data25, layout=layout25)\n",
    "py.iplot(fig25, filename='S1 AMB E1 E3 and E4')"
   ]
  },
  {
   "cell_type": "code",
   "execution_count": 18,
   "metadata": {},
   "outputs": [
    {
     "data": {
      "text/html": [
       "<iframe id=\"igraph\" scrolling=\"no\" style=\"border:none;\" seamless=\"seamless\" src=\"https://plot.ly/~mattandersoninf/41.embed\" height=\"525px\" width=\"100%\"></iframe>"
      ],
      "text/plain": [
       "<plotly.tools.PlotlyDisplay object>"
      ]
     },
     "execution_count": 18,
     "metadata": {},
     "output_type": "execute_result"
    }
   ],
   "source": [
    "layout26 = dict(\n",
    "    title = 'S1 AMB and S3 USP',\n",
    "    xaxis = dict(\n",
    "        title = 'Dates and Times(hr)',\n",
    "        titlefont=dict(\n",
    "            family='Old Standard TT, serif',\n",
    "            size=12,\n",
    "            color='black'\n",
    "        ),\n",
    "        tickangle = 45,\n",
    "        tickfont = dict(\n",
    "            family='Old Standard TT, serif',\n",
    "            size=8,\n",
    "            color='black'\n",
    "        )\n",
    "    ),\n",
    "    yaxis = dict(\n",
    "        title = 'DegC',\n",
    "        titlefont=dict(\n",
    "            family='Old Standard TT, serif',\n",
    "            size=12,\n",
    "            color='black'\n",
    "        ),\n",
    "        tickfont = dict(\n",
    "            family='Old Standard TT, serif',\n",
    "            size=8,\n",
    "            color='black'\n",
    "        )\n",
    "    )\n",
    ")\n",
    "\n",
    "fig26 = dict(data=data26, layout=layout26)\n",
    "py.iplot(fig26, filename='S1 AMB and S3 USP')"
   ]
  },
  {
   "cell_type": "code",
   "execution_count": 5,
   "metadata": {},
   "outputs": [
    {
     "data": {
      "text/html": [
       "<iframe id=\"igraph\" scrolling=\"no\" style=\"border:none;\" seamless=\"seamless\" src=\"https://plot.ly/~mattandersoninf/43.embed\" height=\"525px\" width=\"100%\"></iframe>"
      ],
      "text/plain": [
       "<plotly.tools.PlotlyDisplay object>"
      ]
     },
     "execution_count": 5,
     "metadata": {},
     "output_type": "execute_result"
    }
   ],
   "source": [
    "layout32 = dict(\n",
    "    title = 'TDR',\n",
    "    xaxis = dict(\n",
    "        title = 'Dates and Times(hr)',\n",
    "        titlefont=dict(\n",
    "            family='Old Standard TT, serif',\n",
    "            size=12,\n",
    "            color='black'\n",
    "        ),\n",
    "        tickangle = 45,\n",
    "        tickfont = dict(\n",
    "            family='Old Standard TT, serif',\n",
    "            size=8,\n",
    "            color='black'\n",
    "        )\n",
    "    ),\n",
    "    yaxis = dict(\n",
    "        title = 'mbar',\n",
    "        titlefont=dict(\n",
    "            family='Old Standard TT, serif',\n",
    "            size=12,\n",
    "            color='black'\n",
    "        ),\n",
    "        tickfont = dict(\n",
    "            family='Old Standard TT, serif',\n",
    "            size=8,\n",
    "            color='black'\n",
    "        )\n",
    "    )\n",
    ")\n",
    "\n",
    "fig32 = dict(data=data32, layout=layout32)\n",
    "py.iplot(fig32, filename='TDR')"
   ]
  },
  {
   "cell_type": "code",
   "execution_count": 6,
   "metadata": {},
   "outputs": [
    {
     "data": {
      "text/html": [
       "<iframe id=\"igraph\" scrolling=\"no\" style=\"border:none;\" seamless=\"seamless\" src=\"https://plot.ly/~mattandersoninf/43.embed\" height=\"525px\" width=\"100%\"></iframe>"
      ],
      "text/plain": [
       "<plotly.tools.PlotlyDisplay object>"
      ]
     },
     "execution_count": 6,
     "metadata": {},
     "output_type": "execute_result"
    }
   ],
   "source": [
    "layout35 = dict(\n",
    "    title = 'TDR',\n",
    "    xaxis = dict(\n",
    "        title = 'Dates and Times(hr)',\n",
    "        titlefont=dict(\n",
    "            family='Old Standard TT, serif',\n",
    "            size=12,\n",
    "            color='black'\n",
    "        ),\n",
    "        tickangle = 45,\n",
    "        tickfont = dict(\n",
    "            family='Old Standard TT, serif',\n",
    "            size=8,\n",
    "            color='black'\n",
    "        )\n",
    "    ),\n",
    "    yaxis = dict(\n",
    "        title = 'm/s',\n",
    "        titlefont=dict(\n",
    "            family='Old Standard TT, serif',\n",
    "            size=12,\n",
    "            color='black'\n",
    "        ),\n",
    "        tickfont = dict(\n",
    "            family='Old Standard TT, serif',\n",
    "            size=8,\n",
    "            color='black'\n",
    "        )\n",
    "    )\n",
    ")\n",
    "\n",
    "fig35 = dict(data=data35, layout=layout35)\n",
    "py.iplot(fig35, filename='WS')"
   ]
  },
  {
   "cell_type": "code",
   "execution_count": 7,
   "metadata": {},
   "outputs": [
    {
     "data": {
      "text/html": [
       "<iframe id=\"igraph\" scrolling=\"no\" style=\"border:none;\" seamless=\"seamless\" src=\"https://plot.ly/~mattandersoninf/45.embed\" height=\"525px\" width=\"100%\"></iframe>"
      ],
      "text/plain": [
       "<plotly.tools.PlotlyDisplay object>"
      ]
     },
     "execution_count": 7,
     "metadata": {},
     "output_type": "execute_result"
    }
   ],
   "source": [
    "layout38 = dict(\n",
    "    title = 'Barometric Pressure',\n",
    "    xaxis = dict(\n",
    "        title = 'Dates and Times(hr)',\n",
    "        titlefont=dict(\n",
    "            family='Old Standard TT, serif',\n",
    "            size=12,\n",
    "            color='black'\n",
    "        ),\n",
    "        tickangle = 45,\n",
    "        tickfont = dict(\n",
    "            family='Old Standard TT, serif',\n",
    "            size=8,\n",
    "            color='black'\n",
    "        )\n",
    "    ),\n",
    "    yaxis = dict(\n",
    "        title = 'in',\n",
    "        titlefont=dict(\n",
    "            family='Old Standard TT, serif',\n",
    "            size=12,\n",
    "            color='black'\n",
    "        ),\n",
    "        tickfont = dict(\n",
    "            family='Old Standard TT, serif',\n",
    "            size=8,\n",
    "            color='black'\n",
    "        )\n",
    "    )\n",
    ")\n",
    "\n",
    "fig38 = dict(data=data38, layout=layout38)\n",
    "py.iplot(fig38, filename='BP')"
   ]
  },
  {
   "cell_type": "code",
   "execution_count": 8,
   "metadata": {},
   "outputs": [
    {
     "data": {
      "text/html": [
       "<iframe id=\"igraph\" scrolling=\"no\" style=\"border:none;\" seamless=\"seamless\" src=\"https://plot.ly/~mattandersoninf/47.embed\" height=\"525px\" width=\"100%\"></iframe>"
      ],
      "text/plain": [
       "<plotly.tools.PlotlyDisplay object>"
      ]
     },
     "execution_count": 8,
     "metadata": {},
     "output_type": "execute_result"
    }
   ],
   "source": [
    "layout41 = dict(\n",
    "    title = 'Relative Humidity',\n",
    "    xaxis = dict(\n",
    "        title = 'Dates and Times(hr)',\n",
    "        titlefont=dict(\n",
    "            family='Old Standard TT, serif',\n",
    "            size=12,\n",
    "            color='black'\n",
    "        ),\n",
    "        tickangle = 45,\n",
    "        tickfont = dict(\n",
    "            family='Old Standard TT, serif',\n",
    "            size=8,\n",
    "            color='black'\n",
    "        )\n",
    "    ),\n",
    "    yaxis = dict(\n",
    "        title = '%',\n",
    "        titlefont=dict(\n",
    "            family='Old Standard TT, serif',\n",
    "            size=12,\n",
    "            color='black'\n",
    "        ),\n",
    "        tickfont = dict(\n",
    "            family='Old Standard TT, serif',\n",
    "            size=8,\n",
    "            color='black'\n",
    "        )\n",
    "    )\n",
    ")\n",
    "\n",
    "fig41 = dict(data=data41, layout=layout41)\n",
    "py.iplot(fig41, filename='RH')"
   ]
  },
  {
   "cell_type": "code",
   "execution_count": 4,
   "metadata": {},
   "outputs": [
    {
     "data": {
      "text/html": [
       "<iframe id=\"igraph\" scrolling=\"no\" style=\"border:none;\" seamless=\"seamless\" src=\"https://plot.ly/~mattandersoninf/49.embed\" height=\"525px\" width=\"100%\"></iframe>"
      ],
      "text/plain": [
       "<plotly.tools.PlotlyDisplay object>"
      ]
     },
     "execution_count": 4,
     "metadata": {},
     "output_type": "execute_result"
    }
   ],
   "source": [
    "layout44 = dict(\n",
    "    title = 'Slab1 mh2o and rain',\n",
    "    xaxis = dict(\n",
    "        title = 'Dates and Times(hr)',\n",
    "        titlefont=dict(\n",
    "            family='Old Standard TT, serif',\n",
    "            size=12,\n",
    "            color='black'\n",
    "        ),\n",
    "        tickangle = 45,\n",
    "        tickfont = dict(\n",
    "            family='Old Standard TT, serif',\n",
    "            size=8,\n",
    "            color='black'\n",
    "        )\n",
    "    ),\n",
    "    yaxis = dict(\n",
    "        title = 'mm',\n",
    "        titlefont=dict(\n",
    "            family='Old Standard TT, serif',\n",
    "            size=12,\n",
    "            color='black'\n",
    "        ),\n",
    "        tickfont = dict(\n",
    "            family='Old Standard TT, serif',\n",
    "            size=8,\n",
    "            color='black'\n",
    "        )\n",
    "    )\n",
    ")\n",
    "\n",
    "fig44 = dict(data=data44, layout=layout44)\n",
    "py.iplot(fig44, filename='S1_MH2O')"
   ]
  },
  {
   "cell_type": "code",
   "execution_count": 6,
   "metadata": {},
   "outputs": [
    {
     "data": {
      "text/html": [
       "<iframe id=\"igraph\" scrolling=\"no\" style=\"border:none;\" seamless=\"seamless\" src=\"https://plot.ly/~mattandersoninf/51.embed\" height=\"525px\" width=\"100%\"></iframe>"
      ],
      "text/plain": [
       "<plotly.tools.PlotlyDisplay object>"
      ]
     },
     "execution_count": 6,
     "metadata": {},
     "output_type": "execute_result"
    }
   ],
   "source": [
    "layout45 = dict(\n",
    "    title = 'Slab2 mh2o',\n",
    "    xaxis = dict(\n",
    "        title = 'Dates and Times(hr)',\n",
    "        titlefont=dict(\n",
    "            family='Old Standard TT, serif',\n",
    "            size=12,\n",
    "            color='black'\n",
    "        ),\n",
    "        tickangle = 45,\n",
    "        tickfont = dict(\n",
    "            family='Old Standard TT, serif',\n",
    "            size=8,\n",
    "            color='black'\n",
    "        )\n",
    "    ),\n",
    "    yaxis = dict(\n",
    "        title = 'mm',\n",
    "        titlefont=dict(\n",
    "            family='Old Standard TT, serif',\n",
    "            size=12,\n",
    "            color='black'\n",
    "        ),\n",
    "        tickfont = dict(\n",
    "            family='Old Standard TT, serif',\n",
    "            size=8,\n",
    "            color='black'\n",
    "        )\n",
    "    )\n",
    ")\n",
    "\n",
    "fig45 = dict(data=data45, layout=layout45)\n",
    "py.iplot(fig45, filename='S2_MH2O')"
   ]
  },
  {
   "cell_type": "code",
   "execution_count": 7,
   "metadata": {},
   "outputs": [
    {
     "data": {
      "text/html": [
       "<iframe id=\"igraph\" scrolling=\"no\" style=\"border:none;\" seamless=\"seamless\" src=\"https://plot.ly/~mattandersoninf/53.embed\" height=\"525px\" width=\"100%\"></iframe>"
      ],
      "text/plain": [
       "<plotly.tools.PlotlyDisplay object>"
      ]
     },
     "execution_count": 7,
     "metadata": {},
     "output_type": "execute_result"
    }
   ],
   "source": [
    "layout46 = dict(\n",
    "    title = 'Slab3 mh2o',\n",
    "    xaxis = dict(\n",
    "        title = 'Dates and Times(hr)',\n",
    "        titlefont=dict(\n",
    "            family='Old Standard TT, serif',\n",
    "            size=12,\n",
    "            color='black'\n",
    "        ),\n",
    "        tickangle = 45,\n",
    "        tickfont = dict(\n",
    "            family='Old Standard TT, serif',\n",
    "            size=8,\n",
    "            color='black'\n",
    "        )\n",
    "    ),\n",
    "    yaxis = dict(\n",
    "        title = 'mm',\n",
    "        titlefont=dict(\n",
    "            family='Old Standard TT, serif',\n",
    "            size=12,\n",
    "            color='black'\n",
    "        ),\n",
    "        tickfont = dict(\n",
    "            family='Old Standard TT, serif',\n",
    "            size=8,\n",
    "            color='black'\n",
    "        )\n",
    "    )\n",
    ")\n",
    "\n",
    "fig46 = dict(data=data46, layout=layout46)\n",
    "py.iplot(fig46, filename='S3_MH2O')"
   ]
  },
  {
   "cell_type": "code",
   "execution_count": 4,
   "metadata": {},
   "outputs": [
    {
     "data": {
      "text/html": [
       "<iframe id=\"igraph\" scrolling=\"no\" style=\"border:none;\" seamless=\"seamless\" src=\"https://plot.ly/~mattandersoninf/55.embed\" height=\"525px\" width=\"100%\"></iframe>"
      ],
      "text/plain": [
       "<plotly.tools.PlotlyDisplay object>"
      ]
     },
     "execution_count": 4,
     "metadata": {},
     "output_type": "execute_result"
    }
   ],
   "source": [
    "layout47 = dict(\n",
    "    title = 'Slab4 mh2o',\n",
    "    xaxis = dict(\n",
    "        title = 'Dates and Times(hr)',\n",
    "        titlefont=dict(\n",
    "            family='Old Standard TT, serif',\n",
    "            size=12,\n",
    "            color='black'\n",
    "        ),\n",
    "        tickangle = 45,\n",
    "        tickfont = dict(\n",
    "            family='Old Standard TT, serif',\n",
    "            size=8,\n",
    "            color='black'\n",
    "        )\n",
    "    ),\n",
    "    yaxis = dict(\n",
    "        title = 'mm',\n",
    "        titlefont=dict(\n",
    "            family='Old Standard TT, serif',\n",
    "            size=12,\n",
    "            color='black'\n",
    "        ),\n",
    "        tickfont = dict(\n",
    "            family='Old Standard TT, serif',\n",
    "            size=8,\n",
    "            color='black'\n",
    "        )\n",
    "    )\n",
    ")\n",
    "\n",
    "fig47 = dict(data=data47, layout=layout47)\n",
    "py.iplot(fig47, filename='S4_MH2O')"
   ]
  },
  {
   "cell_type": "code",
   "execution_count": 5,
   "metadata": {},
   "outputs": [
    {
     "data": {
      "text/html": [
       "<iframe id=\"igraph\" scrolling=\"no\" style=\"border:none;\" seamless=\"seamless\" src=\"https://plot.ly/~mattandersoninf/63.embed\" height=\"525px\" width=\"100%\"></iframe>"
      ],
      "text/plain": [
       "<plotly.tools.PlotlyDisplay object>"
      ]
     },
     "execution_count": 5,
     "metadata": {},
     "output_type": "execute_result"
    }
   ],
   "source": [
    "layout48 = dict(\n",
    "    title = 'Slab5 mh2o',\n",
    "    xaxis = dict(\n",
    "        title = 'Dates and Times(hr)',\n",
    "        titlefont=dict(\n",
    "            family='Old Standard TT, serif',\n",
    "            size=12,\n",
    "            color='black'\n",
    "        ),\n",
    "        tickangle = 45,\n",
    "        tickfont = dict(\n",
    "            family='Old Standard TT, serif',\n",
    "            size=8,\n",
    "            color='black'\n",
    "        )\n",
    "    ),\n",
    "    yaxis = dict(\n",
    "        title = 'mm',\n",
    "        titlefont=dict(\n",
    "            family='Old Standard TT, serif',\n",
    "            size=12,\n",
    "            color='black'\n",
    "        ),\n",
    "        tickfont = dict(\n",
    "            family='Old Standard TT, serif',\n",
    "            size=8,\n",
    "            color='black'\n",
    "        )\n",
    "    )\n",
    ")\n",
    "\n",
    "fig48 = dict(data=data48, layout=layout48)\n",
    "py.iplot(fig48, filename='S5_MH2O')"
   ]
  },
  {
   "cell_type": "code",
   "execution_count": 3,
   "metadata": {},
   "outputs": [
    {
     "data": {
      "text/html": [
       "<iframe id=\"igraph\" scrolling=\"no\" style=\"border:none;\" seamless=\"seamless\" src=\"https://plot.ly/~mattandersoninf/71.embed\" height=\"525px\" width=\"100%\"></iframe>"
      ],
      "text/plain": [
       "<plotly.tools.PlotlyDisplay object>"
      ]
     },
     "execution_count": 3,
     "metadata": {},
     "output_type": "execute_result"
    }
   ],
   "source": [
    "layout49 = dict(\n",
    "    title = 'Slab6 mh2o',\n",
    "    xaxis = dict(\n",
    "        title = 'Dates and Times(hr)',\n",
    "        titlefont=dict(\n",
    "            family='Old Standard TT, serif',\n",
    "            size=12,\n",
    "            color='black'\n",
    "        ),\n",
    "        tickangle = 45,\n",
    "        tickfont = dict(\n",
    "            family='Old Standard TT, serif',\n",
    "            size=8,\n",
    "            color='black'\n",
    "        )\n",
    "    ),\n",
    "    yaxis = dict(\n",
    "        title = 'mm',\n",
    "        titlefont=dict(\n",
    "            family='Old Standard TT, serif',\n",
    "            size=12,\n",
    "            color='black'\n",
    "        ),\n",
    "        tickfont = dict(\n",
    "            family='Old Standard TT, serif',\n",
    "            size=8,\n",
    "            color='black'\n",
    "        )\n",
    "    )\n",
    ")\n",
    "\n",
    "fig49 = dict(data=data49, layout=layout49)\n",
    "py.iplot(fig48, filename='S6_MH2O')"
   ]
  },
  {
   "cell_type": "code",
   "execution_count": 4,
   "metadata": {},
   "outputs": [
    {
     "data": {
      "text/html": [
       "<iframe id=\"igraph\" scrolling=\"no\" style=\"border:none;\" seamless=\"seamless\" src=\"https://plot.ly/~mattandersoninf/73.embed\" height=\"525px\" width=\"100%\"></iframe>"
      ],
      "text/plain": [
       "<plotly.tools.PlotlyDisplay object>"
      ]
     },
     "execution_count": 4,
     "metadata": {},
     "output_type": "execute_result"
    }
   ],
   "source": [
    "layout50 = dict(\n",
    "    title = 'Slab7 mh2o',\n",
    "    xaxis = dict(\n",
    "        title = 'Dates and Times(hr)',\n",
    "        titlefont=dict(\n",
    "            family='Old Standard TT, serif',\n",
    "            size=12,\n",
    "            color='black'\n",
    "        ),\n",
    "        tickangle = 45,\n",
    "        tickfont = dict(\n",
    "            family='Old Standard TT, serif',\n",
    "            size=8,\n",
    "            color='black'\n",
    "        )\n",
    "    ),\n",
    "    yaxis = dict(\n",
    "        title = 'mm',\n",
    "        titlefont=dict(\n",
    "            family='Old Standard TT, serif',\n",
    "            size=12,\n",
    "            color='black'\n",
    "        ),\n",
    "        tickfont = dict(\n",
    "            family='Old Standard TT, serif',\n",
    "            size=8,\n",
    "            color='black'\n",
    "        )\n",
    "    )\n",
    ")\n",
    "\n",
    "fig50 = dict(data=data50, layout=layout50)\n",
    "py.iplot(fig50, filename='S7_MH2O')"
   ]
  },
  {
   "cell_type": "code",
   "execution_count": 5,
   "metadata": {},
   "outputs": [
    {
     "data": {
      "text/html": [
       "<iframe id=\"igraph\" scrolling=\"no\" style=\"border:none;\" seamless=\"seamless\" src=\"https://plot.ly/~mattandersoninf/75.embed\" height=\"525px\" width=\"100%\"></iframe>"
      ],
      "text/plain": [
       "<plotly.tools.PlotlyDisplay object>"
      ]
     },
     "execution_count": 5,
     "metadata": {},
     "output_type": "execute_result"
    }
   ],
   "source": [
    "layout51 = dict(\n",
    "    title = 'Slab8 mh2o',\n",
    "    xaxis = dict(\n",
    "        title = 'Dates and Times(hr)',\n",
    "        titlefont=dict(\n",
    "            family='Old Standard TT, serif',\n",
    "            size=12,\n",
    "            color='black'\n",
    "        ),\n",
    "        tickangle = 45,\n",
    "        tickfont = dict(\n",
    "            family='Old Standard TT, serif',\n",
    "            size=8,\n",
    "            color='black'\n",
    "        )\n",
    "    ),\n",
    "    yaxis = dict(\n",
    "        title = 'mm',\n",
    "        titlefont=dict(\n",
    "            family='Old Standard TT, serif',\n",
    "            size=12,\n",
    "            color='black'\n",
    "        ),\n",
    "        tickfont = dict(\n",
    "            family='Old Standard TT, serif',\n",
    "            size=8,\n",
    "            color='black'\n",
    "        )\n",
    "    )\n",
    ")\n",
    "\n",
    "fig51 = dict(data=data51, layout=layout51)\n",
    "py.iplot(fig51, filename='S8_MH2O')"
   ]
  },
  {
   "cell_type": "code",
   "execution_count": null,
   "metadata": {},
   "outputs": [],
   "source": []
  }
 ],
 "metadata": {
  "kernelspec": {
   "display_name": "Python 3",
   "language": "python",
   "name": "python3"
  },
  "language_info": {
   "codemirror_mode": {
    "name": "ipython",
    "version": 3
   },
   "file_extension": ".py",
   "mimetype": "text/x-python",
   "name": "python",
   "nbconvert_exporter": "python",
   "pygments_lexer": "ipython3",
   "version": "3.6.1"
  }
 },
 "nbformat": 4,
 "nbformat_minor": 2
}
