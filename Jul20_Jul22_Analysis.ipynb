{
 "cells": [
  {
   "cell_type": "code",
   "execution_count": 1,
   "metadata": {},
   "outputs": [
    {
     "name": "stderr",
     "output_type": "stream",
     "text": [
      "C:\\Users\\mattanderson\\AppData\\Local\\Continuum\\Anaconda3\\lib\\site-packages\\scipy\\io\\matlab\\mio.py:136: MatReadWarning: Duplicate variable name \"None\" in stream - replacing previous with new\n",
      "Consider mio5.varmats_from_mat to split file into single variable files\n",
      "  matfile_dict = MR.get_variables(variable_names)\n"
     ]
    },
    {
     "name": "stdout",
     "output_type": "stream",
     "text": [
      "[ MatlabOpaque([ (b'', b'MCOS', b'datetime', array([[3707764736],\n",
      "       [         2],\n",
      "       [         1],\n",
      "       [         1],\n",
      "       [        12],\n",
      "       [         2]], dtype=uint32))],\n",
      "             dtype=[('s0', 'O'), ('s1', 'O'), ('s2', 'O'), ('arr', 'O')])]\n"
     ]
    }
   ],
   "source": [
    "import numpy as np\n",
    "import matplotlib.pyplot as plt\n",
    "import scipy.io.matlab.mio5 as mio5\n",
    "# create string value to mat file\n",
    "matPath = 'data/2017_Pervious11_F5.mat'\n",
    "# load the information in the file in a format that python can interpret\n",
    "matfile = sio.loadmat(matPath)\n",
    "# in order: for slab1 get date_time, rn, qh,qe,qg and sup\n",
    "s1_dates = matfile['S1']['D']\n",
    "s1_rn = matfile['S1']['RN']\n",
    "#s1_qh = matfile['S1']['QH']\n",
    "#s1_qe = matfile['S1']['QE']\n",
    "#s1_qg = matfile['S1']['QG']\n",
    "s1_sup = matfile['S1']['SUP']\n",
    "s1_sdn = matfile['S1']['SDN']\n",
    "s1_lup = matfile['S1']['LUP']\n",
    "s1_ldn = matfile['S1']['LDN']\n",
    "print(s1_dates[0])\n",
    "\n"
   ]
  },
  {
   "cell_type": "code",
   "execution_count": null,
   "metadata": {},
   "outputs": [],
   "source": []
  }
 ],
 "metadata": {
  "kernelspec": {
   "display_name": "Python 3",
   "language": "python",
   "name": "python3"
  },
  "language_info": {
   "codemirror_mode": {
    "name": "ipython",
    "version": 3
   },
   "file_extension": ".py",
   "mimetype": "text/x-python",
   "name": "python",
   "nbconvert_exporter": "python",
   "pygments_lexer": "ipython3",
   "version": "3.6.1"
  }
 },
 "nbformat": 4,
 "nbformat_minor": 2
}
