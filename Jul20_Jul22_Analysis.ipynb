{
 "cells": [
  {
   "cell_type": "code",
   "execution_count": 2,
   "metadata": {},
   "outputs": [
    {
     "name": "stderr",
     "output_type": "stream",
     "text": [
      "C:\\Users\\mattanderson\\AppData\\Local\\Continuum\\Anaconda3\\lib\\site-packages\\scipy\\io\\matlab\\mio.py:136: MatReadWarning: Duplicate variable name \"None\" in stream - replacing previous with new\n",
      "Consider mio5.varmats_from_mat to split file into single variable files\n",
      "  matfile_dict = MR.get_variables(variable_names)\n"
     ]
    },
    {
     "name": "stdout",
     "output_type": "stream",
     "text": [
      "[[ array([[ 29.59],\n",
      "       [ 29.53],\n",
      "       [ 29.46],\n",
      "       ..., \n",
      "       [ 29.05],\n",
      "       [ 29.19],\n",
      "       [ 29.33]])]]\n"
     ]
    }
   ],
   "source": [
    "import numpy as np\n",
    "import matplotlib.pyplot as plt\n",
    "import scipy.io as sio\n",
    "# create string value to mat file\n",
    "matPath = 'data/2017_Pervious11_F5.mat'\n",
    "# load the information in the file in a format that python can interpret\n",
    "mat = sio.loadmat(matPath)\n",
    "# get informaiton slab1 usp information\n",
    "\n",
    "s1usp = mat['S1']['USP']\n"
   ]
  },
  {
   "cell_type": "code",
   "execution_count": null,
   "metadata": {},
   "outputs": [],
   "source": []
  }
 ],
 "metadata": {
  "kernelspec": {
   "display_name": "Python 3",
   "language": "python",
   "name": "python3"
  },
  "language_info": {
   "codemirror_mode": {
    "name": "ipython",
    "version": 3
   },
   "file_extension": ".py",
   "mimetype": "text/x-python",
   "name": "python",
   "nbconvert_exporter": "python",
   "pygments_lexer": "ipython3",
   "version": "3.6.1"
  }
 },
 "nbformat": 4,
 "nbformat_minor": 2
}
